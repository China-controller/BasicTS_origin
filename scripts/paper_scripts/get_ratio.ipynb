{
 "cells": [
  {
   "cell_type": "code",
   "execution_count": 34,
   "metadata": {},
   "outputs": [],
   "source": [
    "import os\n",
    "import sys\n",
    "import math\n",
    "import torch\n",
    "\n",
    "PROJECT_DIR = os.path.abspath(os.path.abspath('') + \"/..\")\n",
    "sys.path.append(PROJECT_DIR)\n",
    "\n",
    "import numpy as np\n",
    "from tqdm import tqdm\n",
    "from basicts.data import TimeSeriesForecastingDataset\n",
    "\n",
    "\n",
    "dataset_name = \"METR-LA\"\n",
    "batch_size = 8\n",
    "metric = \"cosine\" # metric used to calculate the similarity.\n",
    "device = torch.device(\"cuda:0\" if torch.cuda.is_available() else \"cpu\")\n",
    "\n",
    "history_seq_len = 12 # the historical sequence length used in computing the spatial indistinguishability ratio, which should be larger than or equal to the patch_size.\n",
    "future_seq_len = 12 # the future sequence length used in computing the spatial indistinguishability ratio.\n"
   ]
  },
  {
   "cell_type": "markdown",
   "metadata": {},
   "source": [
    "## utilities"
   ]
  },
  {
   "cell_type": "code",
   "execution_count": 35,
   "metadata": {},
   "outputs": [],
   "source": [
    "# similarity computation\n",
    "def cosine_similarity(x, y):\n",
    "    # denominator\n",
    "    l2_x = torch.norm(x, dim=2, p=2) + 1e-7\n",
    "    l2_y = torch.norm(y, dim=2, p=2) + 1e-7\n",
    "    l2_n = torch.matmul(l2_x.unsqueeze(dim=2), l2_y.unsqueeze(dim=2).transpose(1, 2))\n",
    "    # numerator\n",
    "    l2_d = torch.matmul(x, y.transpose(1, 2))\n",
    "    return l2_d / l2_n\n",
    "\n",
    "def get_similarity_matrix(data, metric):\n",
    "    if metric == \"cosine\":\n",
    "        sim = cosine_similarity(data, data)\n",
    "    elif metric == \"mse\":\n",
    "        sim = torch.cdist(data, data, p=2)\n",
    "    elif metric == \"mae\":\n",
    "        sim = torch.cdist(data, data, p=1)\n",
    "    else:\n",
    "        raise NotImplementedError\n",
    "    return sim"
   ]
  },
  {
   "cell_type": "code",
   "execution_count": 36,
   "metadata": {},
   "outputs": [],
   "source": [
    "# dataloader\n",
    "def load_data(dataset_name, history_seq_len, future_seq_len, mode, batch_size):\n",
    "    \"\"\"Get a dataloader.\n",
    "\n",
    "    Args:\n",
    "        name (str): dataset name.\n",
    "        tsformer_in_seq_len (int): historical sequence length.\n",
    "        tsformer_out_seq_len (int): tsformer_out_seq_len does not matter, it is only used to load datasets.\n",
    "        mode (str): [\"train\", \"val\", \"test\"].\n",
    "        batch_size (int): batch size.\n",
    "    \"\"\"\n",
    "    assert mode in [\"train\", \"valid\", \"test\"]\n",
    "    data_path = PROJECT_DIR + \"/datasets/{0}/data_in{1}_out{2}.pkl\".format(dataset_name, history_seq_len, future_seq_len)\n",
    "    index_path = PROJECT_DIR + \"/datasets/{0}/index_in{1}_out{2}.pkl\".format(dataset_name, history_seq_len, future_seq_len)\n",
    "    dataset = TimeSeriesForecastingDataset(data_path, index_path, mode=mode)\n",
    "    dataloader = torch.utils.data.DataLoader(dataset, batch_size=batch_size, shuffle=False, num_workers=3)\n",
    "    return dataloader\n"
   ]
  },
  {
   "cell_type": "markdown",
   "metadata": {},
   "source": [
    "## Generate Similarity Matrix"
   ]
  },
  {
   "cell_type": "code",
   "execution_count": 37,
   "metadata": {},
   "outputs": [
    {
     "name": "stderr",
     "output_type": "stream",
     "text": [
      "100%|██████████| 2997/2997 [00:11<00:00, 250.75it/s]\n"
     ]
    }
   ],
   "source": [
    "# get similarity matrices\n",
    "\n",
    "# inference pipeline for a given dataloader\n",
    "history_adjs_all = []\n",
    "future_adjs_all = []\n",
    "def inference(dataloader):\n",
    "    for batch in tqdm(dataloader):\n",
    "        future_data, history_data = batch\n",
    "        history_data = history_data[..., 0].transpose(1, 2) # batch_size, num_nodes, history_seq_len\n",
    "        future_data = future_data[..., 0].transpose(1, 2) # batch_size, num_nodes, future_seq_len\n",
    "        history_adjs = get_similarity_matrix(history_data, metric) # batch_size, num_nodes, num_nodes\n",
    "        future_adjs = get_similarity_matrix(future_data, metric) # batch_size, num_nodes, num_nodes\n",
    "        history_adjs_all.append(history_adjs)\n",
    "        future_adjs_all.append(future_adjs)\n",
    "# get similarity matrices\n",
    "# for mode in [\"valid\"]:\n",
    "for mode in [\"train\"]:\n",
    "    dataloader = load_data(dataset_name, history_seq_len, future_seq_len, mode, batch_size)\n",
    "    inference(dataloader)\n"
   ]
  },
  {
   "cell_type": "code",
   "execution_count": 28,
   "metadata": {},
   "outputs": [],
   "source": [
    "# get spatial indistinguishability ratio\n",
    "history_similarity = torch.cat(history_adjs_all, dim=0).detach().cpu() # num_samples, num_modes, num_nodes\n",
    "future_similarity = torch.cat(future_adjs_all, dim=0).detach().cpu() # num_samples, num_modes, num_nodes\n"
   ]
  },
  {
   "cell_type": "code",
   "execution_count": 29,
   "metadata": {},
   "outputs": [],
   "source": [
    "# save results\n",
    "save_path = PROJECT_DIR + \"/experiments/history_{0}_{1}.npy\".format(dataset_name, metric)\n",
    "with open(save_path, \"wb\") as f:\n",
    "    np.save(f, history_similarity)\n",
    "\n",
    "save_path = PROJECT_DIR + \"/experiments/future_{0}_{1}.npy\".format(dataset_name, metric)\n",
    "with open(save_path, \"wb\") as f:\n",
    "    np.save(f, future_similarity)\n"
   ]
  },
  {
   "cell_type": "code",
   "execution_count": 30,
   "metadata": {},
   "outputs": [
    {
     "name": "stdout",
     "output_type": "stream",
     "text": [
      "torch.Size([36586, 21, 21])\n"
     ]
    }
   ],
   "source": [
    "L, N, N = future_similarity.shape\n",
    "print(future_similarity.shape)\n",
    "\n"
   ]
  },
  {
   "cell_type": "markdown",
   "metadata": {},
   "source": [
    "## Get Spatial Indistinguishability Ratio"
   ]
  },
  {
   "cell_type": "code",
   "execution_count": 31,
   "metadata": {},
   "outputs": [],
   "source": [
    "e_u = 0.9\n",
    "e_l = 0.4\n",
    "\n",
    "history_similarity_filtered = torch.where(history_similarity > e_u, torch.ones_like(history_similarity), torch.zeros_like(history_similarity))\n",
    "future_similarity_filtered = torch.where(future_similarity < e_l, torch.ones_like(future_similarity), torch.zeros_like(future_similarity))\n",
    "overlap = history_similarity_filtered * future_similarity_filtered\n"
   ]
  },
  {
   "cell_type": "code",
   "execution_count": 32,
   "metadata": {},
   "outputs": [
    {
     "name": "stdout",
     "output_type": "stream",
     "text": [
      "tensor(2.5232)\n"
     ]
    }
   ],
   "source": [
    "# overlap ratio\n",
    "overlap_ratio = overlap.sum() / (L * N * N)\n",
    "print(overlap_ratio * 100)"
   ]
  },
  {
   "cell_type": "code",
   "execution_count": 33,
   "metadata": {},
   "outputs": [
    {
     "name": "stdout",
     "output_type": "stream",
     "text": [
      "tensor(11.0950)\n"
     ]
    }
   ],
   "source": [
    "# indistinguishability ratio\n",
    "indistinguishability_ratio = overlap.sum() / history_similarity_filtered.sum()\n",
    "print(indistinguishability_ratio * 100)\n"
   ]
  },
  {
   "cell_type": "markdown",
   "metadata": {},
   "source": [
    "## Test"
   ]
  },
  {
   "cell_type": "code",
   "execution_count": null,
   "metadata": {},
   "outputs": [],
   "source": [
    "import numpy as np\n",
    "save_path = PROJECT_DIR + \"/experiments/history_{0}_{1}.npy\".format(dataset_name, metric)\n",
    "with open(save_path, \"rb\") as f:\n",
    "    history_similarity = np.load(f)\n",
    "\n",
    "save_path = PROJECT_DIR + \"/experiments/future_{0}_{1}.npy\".format(dataset_name, metric)\n",
    "with open(save_path, \"rb\") as f:\n",
    "    future_similarity = np.load(f)\n",
    "\n",
    "history_similarity = torch.Tensor(history_similarity)\n",
    "future_similarity = torch.Tensor(future_similarity)\n"
   ]
  },
  {
   "cell_type": "code",
   "execution_count": null,
   "metadata": {},
   "outputs": [],
   "source": [
    "t_future_similarity = future_similarity[:10, :, :]\n",
    "t_history_similarity = history_similarity[:10, :, :]\n"
   ]
  },
  {
   "cell_type": "code",
   "execution_count": null,
   "metadata": {},
   "outputs": [],
   "source": [
    "t_history_similarity_sorted = t_history_similarity.view(-1).sort()[0].numpy()[700000:]\n",
    "t_future_similarity_sorted = t_future_similarity.view(-1).sort()[0].numpy()[700000:]"
   ]
  },
  {
   "cell_type": "code",
   "execution_count": null,
   "metadata": {},
   "outputs": [],
   "source": [
    "# plot\n",
    "import matplotlib.pyplot as plt\n",
    "plt.rcParams['figure.figsize'] = [20, 5]\n",
    "plt.plot(range(t_history_similarity_sorted.size), t_history_similarity_sorted, linewidth=2)\n",
    "plt.plot(range(t_future_similarity_sorted.size), t_future_similarity_sorted, linewidth=2)\n",
    "plt.grid()\n",
    "plt.show()"
   ]
  },
  {
   "cell_type": "code",
   "execution_count": null,
   "metadata": {},
   "outputs": [],
   "source": [
    "t_history_similarity_sorted.shape"
   ]
  },
  {
   "cell_type": "code",
   "execution_count": null,
   "metadata": {},
   "outputs": [],
   "source": [
    "t_history_similarity_sorted[600000:].shape"
   ]
  },
  {
   "cell_type": "code",
   "execution_count": null,
   "metadata": {},
   "outputs": [],
   "source": [
    "import torch"
   ]
  },
  {
   "cell_type": "code",
   "execution_count": 13,
   "metadata": {},
   "outputs": [],
   "source": [
    "X = torch.randn(32, 207, 12) # batch_size, num_nodes, history_seq_len\n",
    "Y = torch.randn(32, 207, 12) # batch_size, num_nodes, future_seq_len\n",
    "# calculate the euclidean distance between each row of X and each row of Y\n",
    "dist = torch.cdist(X, Y, p=2)\n",
    "# calculate the batch cosine similarity pairwisely between each row of X and each row of Y\n",
    "\n",
    "\n"
   ]
  },
  {
   "cell_type": "code",
   "execution_count": 15,
   "metadata": {},
   "outputs": [],
   "source": [
    "def batch_cosine_sim(data):\n",
    "    # data: batch_size, num_nodes, seq_len\n",
    "    # calculate the cosine similarity among nodes pairwisely in each sample\n",
    "    data = data.transpose(1, 2) # batch_size, seq_len, num_nodes\n",
    "    data = data.unsqueeze(1) # batch_size, 1, seq_len, num_nodes\n",
    "    data = data.repeat(1, data.size(2), 1, 1) # batch_size, seq_len, seq_len, num_nodes\n",
    "    data = data.transpose(2, 3) # batch_size, seq_len, num_nodes, seq_len\n",
    "    data = data.reshape(-1, data.size(1), data.size(3)) # batch_size * num_nodes, seq_len, seq_len\n",
    "    sim = torch.cosine_similarity(data, data, dim=2) # batch_size * num_nodes, seq_len\n",
    "    sim = sim.reshape(-1, data.size(1), data.size(1)) # batch_size * num_nodes, seq_len, seq_len\n",
    "    return sim\n"
   ]
  },
  {
   "cell_type": "code",
   "execution_count": 17,
   "metadata": {},
   "outputs": [
    {
     "data": {
      "text/plain": [
       "torch.Size([552, 12, 12])"
      ]
     },
     "execution_count": 17,
     "metadata": {},
     "output_type": "execute_result"
    }
   ],
   "source": [
    "batch_cosine_sim(X).shape"
   ]
  },
  {
   "cell_type": "markdown",
   "metadata": {},
   "source": []
  }
 ],
 "metadata": {
  "kernelspec": {
   "display_name": "BasicTS",
   "language": "python",
   "name": "python3"
  },
  "language_info": {
   "codemirror_mode": {
    "name": "ipython",
    "version": 3
   },
   "file_extension": ".py",
   "mimetype": "text/x-python",
   "name": "python",
   "nbconvert_exporter": "python",
   "pygments_lexer": "ipython3",
   "version": "3.9.15"
  },
  "orig_nbformat": 4
 },
 "nbformat": 4,
 "nbformat_minor": 2
}
